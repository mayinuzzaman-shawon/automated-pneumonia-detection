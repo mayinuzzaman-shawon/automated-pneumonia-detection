{
  "nbformat": 4,
  "nbformat_minor": 0,
  "metadata": {
    "colab": {
      "provenance": [],
      "gpuType": "T4"
    },
    "kernelspec": {
      "name": "python3",
      "display_name": "Python 3"
    },
    "language_info": {
      "name": "python"
    },
    "accelerator": "GPU"
  },
  "cells": [
    {
      "cell_type": "markdown",
      "source": [
        "Importing Necessaey Libraries & GPU Enabling"
      ],
      "metadata": {
        "id": "cst5e-RA1y8i"
      }
    },
    {
      "cell_type": "code",
      "execution_count": null,
      "metadata": {
        "colab": {
          "base_uri": "https://localhost:8080/"
        },
        "id": "taUcXU_au-gg",
        "outputId": "e1b17d5b-869f-4139-d19a-e8a68447bd0c"
      },
      "outputs": [
        {
          "output_type": "stream",
          "name": "stdout",
          "text": [
            "Using device: cuda\n"
          ]
        }
      ],
      "source": [
        "import torch\n",
        "import torch.nn as nn\n",
        "import torch.optim as optim\n",
        "from torchvision import datasets, transforms, models\n",
        "from torch.utils.data import DataLoader\n",
        "from torch.utils.data import random_split\n",
        "from sklearn.metrics import classification_report, confusion_matrix\n",
        "import matplotlib.pyplot as plt\n",
        "import numpy as np\n",
        "import os\n",
        "\n",
        "device = torch.device(\"cuda\" if torch.cuda.is_available() else \"cpu\")\n",
        "print(f\"Using device: {device}\")\n",
        "\n",
        "data_dir = \"./data/chest_xray\"\n",
        "train_dir = os.path.join(data_dir, \"train\")\n",
        "test_dir = os.path.join(data_dir, \"test\")\n"
      ]
    },
    {
      "cell_type": "markdown",
      "source": [
        "Data Preprocessing"
      ],
      "metadata": {
        "id": "utBLbYkE12Td"
      }
    },
    {
      "cell_type": "code",
      "source": [
        "data_transforms = {\n",
        "    \"train\": transforms.Compose([\n",
        "        transforms.Resize((224, 224)),\n",
        "        #transforms.RandomHorizontalFlip(),\n",
        "        transforms.ToTensor(),\n",
        "        transforms.Normalize(mean=[0.5, 0.5, 0.5], std=[0.5, 0.5, 0.5]),\n",
        "    ]),\n",
        "    \"test\": transforms.Compose([\n",
        "        transforms.Resize((224, 224)),\n",
        "        transforms.ToTensor(),\n",
        "        transforms.Normalize(mean=[0.5, 0.5, 0.5], std=[0.5, 0.5, 0.5]),\n",
        "    ]),\n",
        "}\n"
      ],
      "metadata": {
        "id": "YlZUvq7nxZ-d"
      },
      "execution_count": null,
      "outputs": []
    },
    {
      "cell_type": "markdown",
      "source": [
        "Data Loading"
      ],
      "metadata": {
        "id": "A9k-aGSY2Azd"
      }
    },
    {
      "cell_type": "code",
      "source": [
        "train_dataset = datasets.ImageFolder(train_dir, transform=data_transforms[\"train\"])\n",
        "test_dataset = datasets.ImageFolder(test_dir, transform=data_transforms[\"test\"])\n",
        "\n",
        "batch_size = 128\n",
        "data_loaders = {\n",
        "    \"train\": DataLoader(train_dataset, batch_size=batch_size, shuffle=True),\n",
        "    \"test\": DataLoader(test_dataset, batch_size=batch_size, shuffle=False),\n",
        "}\n",
        "\n",
        "print(f\"Training dataset size: {len(train_dataset)}\")\n",
        "print(f\"Testing dataset size: {len(test_dataset)}\")"
      ],
      "metadata": {
        "id": "ksoHbStv04HO",
        "colab": {
          "base_uri": "https://localhost:8080/"
        },
        "outputId": "fc9cc885-34d8-4dff-fc8a-a67b23c6c320"
      },
      "execution_count": null,
      "outputs": [
        {
          "output_type": "stream",
          "name": "stdout",
          "text": [
            "Training dataset size: 5216\n",
            "Testing dataset size: 624\n"
          ]
        }
      ]
    },
    {
      "cell_type": "markdown",
      "source": [
        "CNN Model Building"
      ],
      "metadata": {
        "id": "0yTl4tdT2KMI"
      }
    },
    {
      "cell_type": "code",
      "source": [
        "class PneumoniaCNN(nn.Module):\n",
        "    def __init__(self):\n",
        "        super(PneumoniaCNN, self).__init__()\n",
        "        self.features = nn.Sequential(\n",
        "            nn.Conv2d(3, 32, kernel_size=3, padding=1),\n",
        "            nn.BatchNorm2d(32),\n",
        "            nn.ReLU(),\n",
        "            nn.Conv2d(32, 32, kernel_size=3, padding=1),\n",
        "            nn.BatchNorm2d(32),\n",
        "            nn.ReLU(),\n",
        "            nn.MaxPool2d(2, 2),\n",
        "            nn.Conv2d(32, 64, kernel_size=3, padding=1),\n",
        "            nn.BatchNorm2d(64),\n",
        "            nn.ReLU(),\n",
        "            nn.Conv2d(64, 64, kernel_size=3, padding=1),\n",
        "            nn.BatchNorm2d(64),\n",
        "            nn.ReLU(),\n",
        "            nn.MaxPool2d(2, 2),\n",
        "            nn.Conv2d(64, 128, kernel_size=3, padding=1),\n",
        "            nn.BatchNorm2d(128),\n",
        "            nn.ReLU(),\n",
        "            nn.Conv2d(128, 128, kernel_size=3, padding=1),\n",
        "            nn.BatchNorm2d(128),\n",
        "            nn.ReLU(),\n",
        "            nn.MaxPool2d(2, 2),\n",
        "            nn.Conv2d(128, 256, kernel_size=3, padding=1),\n",
        "            nn.BatchNorm2d(256),\n",
        "            nn.ReLU(),\n",
        "            nn.Dropout2d(p=0.4),\n",
        "            nn.Conv2d(256, 256, kernel_size=3, padding=1),\n",
        "            nn.BatchNorm2d(256),\n",
        "            nn.ReLU(),\n",
        "            nn.MaxPool2d(2, 2),\n",
        "        )\n",
        "        self.classifier = nn.Sequential(\n",
        "            nn.Flatten(),\n",
        "            nn.Linear(256 * 14 * 14, 512),\n",
        "            nn.ReLU(),\n",
        "            nn.Linear(512, 2),\n",
        "        )\n",
        "\n",
        "    def forward(self, x):\n",
        "        x = self.features(x)\n",
        "        x = self.classifier(x)\n",
        "        return x\n",
        "\n"
      ],
      "metadata": {
        "id": "mtT5Rc0GvuSK"
      },
      "execution_count": null,
      "outputs": []
    },
    {
      "cell_type": "code",
      "source": [
        "# Instantiating Our Constructed Model\n",
        "model = PneumoniaCNN().to(device)\n",
        "\n",
        "# Defining loss function and optimizer\n",
        "criterion = nn.CrossEntropyLoss()\n",
        "optimizer = optim.Adam(model.parameters(), lr=1e-4)\n",
        "\n",
        "# Setting training loop\n",
        "num_epochs = 10\n",
        "train_loss = []\n",
        "val_loss = []\n"
      ],
      "metadata": {
        "id": "cKV6O8Q9yyci"
      },
      "execution_count": null,
      "outputs": []
    },
    {
      "cell_type": "code",
      "source": [
        "for epoch in range(num_epochs):\n",
        "    model.train()\n",
        "    running_loss = 0.0\n",
        "    for inputs, labels in data_loaders[\"train\"]:\n",
        "        inputs, labels = inputs.to(device), labels.to(device)\n",
        "        optimizer.zero_grad()\n",
        "        outputs = model(inputs)     # Forward pass happens here\n",
        "        loss = criterion(outputs, labels)     # Compute loss using Our loss function\n",
        "        loss.backward()     # Backpropagation happens here\n",
        "        optimizer.step()     # Update our model weights\n",
        "        running_loss += loss.item() * inputs.size(0)\n",
        "\n",
        "    train_loss.append(running_loss / len(train_dataset))\n",
        "\n",
        "    # Model Validation\n",
        "    model.eval()\n",
        "    val_running_loss = 0.0\n",
        "    with torch.no_grad():\n",
        "        for inputs, labels in data_loaders[\"test\"]:\n",
        "            inputs, labels = inputs.to(device), labels.to(device)\n",
        "            outputs = model(inputs)\n",
        "            loss = criterion(outputs, labels)\n",
        "            val_running_loss += loss.item() * inputs.size(0)\n",
        "\n",
        "    val_loss.append(val_running_loss / len(test_dataset))\n",
        "    print(f\"Epoch {epoch+1}/{num_epochs}, Training Loss: {train_loss[-1]:.4f}, Validation Loss: {val_loss[-1]:.4f}\")"
      ],
      "metadata": {
        "id": "8J9q9RO52UkU",
        "colab": {
          "base_uri": "https://localhost:8080/"
        },
        "outputId": "a5caaeb6-f3a5-49ed-d1fa-f8b9885f72ed"
      },
      "execution_count": null,
      "outputs": [
        {
          "output_type": "stream",
          "name": "stdout",
          "text": [
            "Epoch 1/10, Training Loss: 0.6308, Validation Loss: 2.0150\n",
            "Epoch 2/10, Training Loss: 0.1515, Validation Loss: 0.8120\n",
            "Epoch 3/10, Training Loss: 0.1069, Validation Loss: 0.7480\n",
            "Epoch 4/10, Training Loss: 0.0835, Validation Loss: 0.9755\n",
            "Epoch 5/10, Training Loss: 0.0697, Validation Loss: 1.1536\n",
            "Epoch 6/10, Training Loss: 0.0606, Validation Loss: 0.9068\n",
            "Epoch 7/10, Training Loss: 0.0465, Validation Loss: 1.0038\n",
            "Epoch 8/10, Training Loss: 0.0392, Validation Loss: 1.0232\n",
            "Epoch 9/10, Training Loss: 0.0321, Validation Loss: 0.9087\n",
            "Epoch 10/10, Training Loss: 0.0291, Validation Loss: 0.7419\n"
          ]
        }
      ]
    },
    {
      "cell_type": "code",
      "source": [
        "# Evaluating Our model\n",
        "model.eval()\n",
        "y_true = []\n",
        "y_pred = []\n",
        "\n",
        "with torch.no_grad():\n",
        "    for inputs, labels in data_loaders[\"test\"]:\n",
        "        inputs, labels = inputs.to(device), labels.to(device)\n",
        "        outputs = model(inputs)\n",
        "        _, preds = torch.max(outputs, 1)\n",
        "        y_true.extend(labels.cpu().numpy())\n",
        "        y_pred.extend(preds.cpu().numpy())\n"
      ],
      "metadata": {
        "id": "ZIC9uhfTv1MH"
      },
      "execution_count": null,
      "outputs": []
    },
    {
      "cell_type": "code",
      "source": [
        "# Classification report\n",
        "print(\"Classification Report:\")\n",
        "print(classification_report(y_true, y_pred, target_names=train_dataset.classes))\n",
        "\n",
        "# Confusion matrix\n",
        "conf_matrix = confusion_matrix(y_true, y_pred)\n",
        "print(\"Confusion Matrix:\")\n",
        "print(conf_matrix)\n"
      ],
      "metadata": {
        "colab": {
          "base_uri": "https://localhost:8080/"
        },
        "id": "N6o7e8nBzEoL",
        "outputId": "686529b0-6b65-4802-bffb-b0ab66282f08"
      },
      "execution_count": null,
      "outputs": [
        {
          "output_type": "stream",
          "name": "stdout",
          "text": [
            "Classification Report:\n",
            "              precision    recall  f1-score   support\n",
            "\n",
            "      NORMAL       0.93      0.54      0.68       234\n",
            "   PNEUMONIA       0.78      0.97      0.87       390\n",
            "\n",
            "    accuracy                           0.81       624\n",
            "   macro avg       0.85      0.76      0.77       624\n",
            "weighted avg       0.83      0.81      0.80       624\n",
            "\n",
            "Confusion Matrix:\n",
            "[[126 108]\n",
            " [ 10 380]]\n"
          ]
        }
      ]
    }
  ]
}