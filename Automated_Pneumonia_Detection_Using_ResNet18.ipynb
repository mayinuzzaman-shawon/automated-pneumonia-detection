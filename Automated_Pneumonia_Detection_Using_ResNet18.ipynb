{
  "nbformat": 4,
  "nbformat_minor": 0,
  "metadata": {
    "colab": {
      "provenance": [],
      "gpuType": "T4"
    },
    "kernelspec": {
      "name": "python3",
      "display_name": "Python 3"
    },
    "language_info": {
      "name": "python"
    },
    "accelerator": "GPU"
  },
  "cells": [
    {
      "cell_type": "code",
      "source": [
        "!pip install kaggle"
      ],
      "metadata": {
        "colab": {
          "base_uri": "https://localhost:8080/"
        },
        "id": "OR1GMAsfwqag",
        "outputId": "b4f1a7e5-a9b0-47a7-85e6-eb166103de69"
      },
      "execution_count": null,
      "outputs": [
        {
          "output_type": "stream",
          "name": "stdout",
          "text": [
            "Requirement already satisfied: kaggle in /usr/local/lib/python3.10/dist-packages (1.6.17)\n",
            "Requirement already satisfied: six>=1.10 in /usr/local/lib/python3.10/dist-packages (from kaggle) (1.16.0)\n",
            "Requirement already satisfied: certifi>=2023.7.22 in /usr/local/lib/python3.10/dist-packages (from kaggle) (2024.8.30)\n",
            "Requirement already satisfied: python-dateutil in /usr/local/lib/python3.10/dist-packages (from kaggle) (2.8.2)\n",
            "Requirement already satisfied: requests in /usr/local/lib/python3.10/dist-packages (from kaggle) (2.32.3)\n",
            "Requirement already satisfied: tqdm in /usr/local/lib/python3.10/dist-packages (from kaggle) (4.66.6)\n",
            "Requirement already satisfied: python-slugify in /usr/local/lib/python3.10/dist-packages (from kaggle) (8.0.4)\n",
            "Requirement already satisfied: urllib3 in /usr/local/lib/python3.10/dist-packages (from kaggle) (2.2.3)\n",
            "Requirement already satisfied: bleach in /usr/local/lib/python3.10/dist-packages (from kaggle) (6.2.0)\n",
            "Requirement already satisfied: webencodings in /usr/local/lib/python3.10/dist-packages (from bleach->kaggle) (0.5.1)\n",
            "Requirement already satisfied: text-unidecode>=1.3 in /usr/local/lib/python3.10/dist-packages (from python-slugify->kaggle) (1.3)\n",
            "Requirement already satisfied: charset-normalizer<4,>=2 in /usr/local/lib/python3.10/dist-packages (from requests->kaggle) (3.4.0)\n",
            "Requirement already satisfied: idna<4,>=2.5 in /usr/local/lib/python3.10/dist-packages (from requests->kaggle) (3.10)\n"
          ]
        }
      ]
    },
    {
      "cell_type": "code",
      "source": [
        "!mkdir -p ~/.kaggle\n",
        "!cp kaggle.json ~/.kaggle/\n",
        "!chmod 600 ~/.kaggle/kaggle.json"
      ],
      "metadata": {
        "id": "Rwjy96Ajwu5U"
      },
      "execution_count": null,
      "outputs": []
    },
    {
      "cell_type": "code",
      "source": [
        "!kaggle datasets download -d paultimothymooney/chest-xray-pneumonia"
      ],
      "metadata": {
        "colab": {
          "base_uri": "https://localhost:8080/"
        },
        "id": "MD0S-z4kw12T",
        "outputId": "f773c0e8-8fa4-413c-84f4-92a9aa89f303"
      },
      "execution_count": null,
      "outputs": [
        {
          "output_type": "stream",
          "name": "stdout",
          "text": [
            "Dataset URL: https://www.kaggle.com/datasets/paultimothymooney/chest-xray-pneumonia\n",
            "License(s): other\n",
            "Downloading chest-xray-pneumonia.zip to /content\n",
            "100% 2.29G/2.29G [01:01<00:00, 43.5MB/s]\n",
            "100% 2.29G/2.29G [01:01<00:00, 40.1MB/s]\n"
          ]
        }
      ]
    },
    {
      "cell_type": "code",
      "source": [
        "import zipfile\n",
        "with zipfile.ZipFile('chest-xray-pneumonia.zip', 'r') as zip_ref:\n",
        "    zip_ref.extractall('chest_xray_pneumonia')"
      ],
      "metadata": {
        "id": "QWIV8U2Hw3wl"
      },
      "execution_count": null,
      "outputs": []
    },
    {
      "cell_type": "code",
      "source": [
        "import torch\n",
        "import torch.nn as nn\n",
        "import torch.optim as optim\n",
        "from torchvision import datasets, transforms, models\n",
        "from torch.utils.data import DataLoader\n",
        "from sklearn.metrics import classification_report, confusion_matrix\n",
        "import matplotlib.pyplot as plt\n",
        "import os\n",
        "\n",
        "# Set device\n",
        "device = torch.device(\"cuda\" if torch.cuda.is_available() else \"cpu\")\n",
        "print(f\"Using device: {device}\")\n",
        "\n",
        "# Define data directories\n",
        "data_dir = \"./chest_xray_pneumonia/chest_xray/chest_xray\"\n",
        "train_dir = os.path.join(data_dir, \"train\")\n",
        "test_dir = os.path.join(data_dir, \"test\")"
      ],
      "metadata": {
        "id": "TX9RGRXtxC94",
        "colab": {
          "base_uri": "https://localhost:8080/"
        },
        "outputId": "2b7def07-52eb-497f-fc55-98f6374cfe36"
      },
      "execution_count": null,
      "outputs": [
        {
          "output_type": "stream",
          "name": "stdout",
          "text": [
            "Using device: cuda\n"
          ]
        }
      ]
    },
    {
      "cell_type": "code",
      "source": [
        "# Define transformations\n",
        "data_transforms = {\n",
        "    \"train\": transforms.Compose([\n",
        "        transforms.Resize((224, 224)),\n",
        "        transforms.RandomHorizontalFlip(),\n",
        "        transforms.RandomRotation(10),  # Randomly rotate by 10 degrees\n",
        "        transforms.ColorJitter(brightness=0.2, contrast=0.2, saturation=0.2),\n",
        "        transforms.RandomAffine(degrees=0, translate=(0.1, 0.1)),  # Small translations\n",
        "        transforms.ToTensor(),\n",
        "        transforms.Normalize(mean=[0.485, 0.456, 0.406], std=[0.229, 0.224, 0.225]),\n",
        "    ]),\n",
        "    \"test\": transforms.Compose([\n",
        "        transforms.Resize((224, 224)),\n",
        "        transforms.ToTensor(),\n",
        "        transforms.Normalize(mean=[0.485, 0.456, 0.406], std=[0.229, 0.224, 0.225]),\n",
        "    ]),\n",
        "}"
      ],
      "metadata": {
        "id": "KFjFBUyyxN96"
      },
      "execution_count": null,
      "outputs": []
    },
    {
      "cell_type": "code",
      "source": [
        "# Load data\n",
        "train_dataset = datasets.ImageFolder(train_dir, transform=data_transforms[\"train\"])\n",
        "test_dataset = datasets.ImageFolder(test_dir, transform=data_transforms[\"test\"])\n",
        "\n",
        "batch_size = 120  # Smaller batch size\n",
        "data_loaders = {\n",
        "    \"train\": DataLoader(train_dataset, batch_size=batch_size, shuffle=True),\n",
        "    \"test\": DataLoader(test_dataset, batch_size=batch_size, shuffle=False),\n",
        "}\n",
        "\n",
        "# Print dataset sizes\n",
        "print(f\"Training dataset size: {len(train_dataset)}\")\n",
        "print(f\"Testing dataset size: {len(test_dataset)}\")"
      ],
      "metadata": {
        "id": "wD_U4j4dxQVZ",
        "colab": {
          "base_uri": "https://localhost:8080/"
        },
        "outputId": "2fac8366-d41c-4b59-a953-17bd876c3ece"
      },
      "execution_count": null,
      "outputs": [
        {
          "output_type": "stream",
          "name": "stdout",
          "text": [
            "Training dataset size: 5216\n",
            "Testing dataset size: 624\n"
          ]
        }
      ]
    },
    {
      "cell_type": "code",
      "source": [
        "# Load pre-trained ResNet model\n",
        "resnet = models.resnet18(pretrained=True)\n",
        "\n",
        "# Modify the final layer for binary classification\n",
        "num_features = resnet.fc.in_features\n",
        "resnet.fc = nn.Sequential(\n",
        "    nn.Dropout(p=0.5),  # Dropout layer for regularization\n",
        "    nn.Linear(num_features, 2)  # Output layer for two classes\n",
        ")\n",
        "resnet = resnet.to(device)"
      ],
      "metadata": {
        "id": "sQ4P9YwtxUBp",
        "colab": {
          "base_uri": "https://localhost:8080/"
        },
        "outputId": "62a65931-4533-459d-ba42-8a27fcf7a250"
      },
      "execution_count": null,
      "outputs": [
        {
          "output_type": "stream",
          "name": "stderr",
          "text": [
            "/usr/local/lib/python3.10/dist-packages/torchvision/models/_utils.py:208: UserWarning: The parameter 'pretrained' is deprecated since 0.13 and may be removed in the future, please use 'weights' instead.\n",
            "  warnings.warn(\n",
            "/usr/local/lib/python3.10/dist-packages/torchvision/models/_utils.py:223: UserWarning: Arguments other than a weight enum or `None` for 'weights' are deprecated since 0.13 and may be removed in the future. The current behavior is equivalent to passing `weights=ResNet18_Weights.IMAGENET1K_V1`. You can also use `weights=ResNet18_Weights.DEFAULT` to get the most up-to-date weights.\n",
            "  warnings.warn(msg)\n",
            "Downloading: \"https://download.pytorch.org/models/resnet18-f37072fd.pth\" to /root/.cache/torch/hub/checkpoints/resnet18-f37072fd.pth\n",
            "100%|██████████| 44.7M/44.7M [00:00<00:00, 166MB/s]\n"
          ]
        }
      ]
    },
    {
      "cell_type": "code",
      "source": [
        "# Define loss function and optimizer\n",
        "criterion = nn.CrossEntropyLoss()\n",
        "optimizer = optim.Adam(resnet.parameters(), lr=1e-4, weight_decay=1e-4)  # Added weight decay\n",
        "\n",
        "# Learning rate scheduler\n",
        "scheduler = optim.lr_scheduler.StepLR(optimizer, step_size=5, gamma=0.5)"
      ],
      "metadata": {
        "id": "eyuI6BjPxdqi"
      },
      "execution_count": null,
      "outputs": []
    },
    {
      "cell_type": "code",
      "source": [
        "# Training loop with early stopping\n",
        "num_epochs = 10\n",
        "train_loss = []\n",
        "val_loss = []\n",
        "best_val_loss = float(\"inf\")\n",
        "patience = 5\n",
        "counter = 0\n",
        "\n",
        "for epoch in range(num_epochs):\n",
        "    resnet.train()\n",
        "    running_loss = 0.0\n",
        "    for inputs, labels in data_loaders[\"train\"]:\n",
        "        inputs, labels = inputs.to(device), labels.to(device)\n",
        "        optimizer.zero_grad()\n",
        "        outputs = resnet(inputs)\n",
        "        loss = criterion(outputs, labels)\n",
        "        loss.backward()\n",
        "        optimizer.step()\n",
        "        running_loss += loss.item() * inputs.size(0)\n",
        "\n",
        "    train_loss.append(running_loss / len(train_dataset))\n",
        "\n",
        "    # Validation\n",
        "    resnet.eval()\n",
        "    val_running_loss = 0.0\n",
        "    with torch.no_grad():\n",
        "        for inputs, labels in data_loaders[\"test\"]:\n",
        "            inputs, labels = inputs.to(device), labels.to(device)\n",
        "            outputs = resnet(inputs)\n",
        "            loss = criterion(outputs, labels)\n",
        "            val_running_loss += loss.item() * inputs.size(0)\n",
        "\n",
        "    val_loss.append(val_running_loss / len(test_dataset))\n",
        "    print(f\"Epoch {epoch+1}/{num_epochs}, Training Loss: {train_loss[-1]:.4f}, Validation Loss: {val_loss[-1]:.4f}\")\n",
        "\n",
        "    # Early stopping\n",
        "    if val_loss[-1] < best_val_loss:\n",
        "        best_val_loss = val_loss[-1]\n",
        "        counter = 0\n",
        "        # Save the best model\n",
        "        torch.save(resnet.state_dict(), \"best_model.pth\")\n",
        "    else:\n",
        "        counter += 1\n",
        "        if counter >= patience:\n",
        "            print(\"Early stopping\")\n",
        "            break\n",
        "\n",
        "    # Step the scheduler\n",
        "    scheduler.step()\n"
      ],
      "metadata": {
        "id": "o-4-0QLVximk",
        "colab": {
          "base_uri": "https://localhost:8080/"
        },
        "outputId": "95ced5b0-45e2-43ef-bb54-26f8b72640af"
      },
      "execution_count": null,
      "outputs": [
        {
          "output_type": "stream",
          "name": "stdout",
          "text": [
            "Epoch 1/10, Training Loss: 0.1693, Validation Loss: 0.2067\n",
            "Epoch 2/10, Training Loss: 0.0656, Validation Loss: 0.3983\n",
            "Epoch 3/10, Training Loss: 0.0559, Validation Loss: 0.2644\n",
            "Epoch 4/10, Training Loss: 0.0461, Validation Loss: 0.4119\n",
            "Epoch 5/10, Training Loss: 0.0328, Validation Loss: 0.4111\n",
            "Epoch 6/10, Training Loss: 0.0319, Validation Loss: 0.3553\n",
            "Early stopping\n"
          ]
        }
      ]
    },
    {
      "cell_type": "code",
      "source": [
        "# Evaluate the model\n",
        "resnet.eval()\n",
        "y_true = []\n",
        "y_pred = []\n",
        "\n",
        "with torch.no_grad():\n",
        "    for inputs, labels in data_loaders[\"test\"]:\n",
        "        inputs, labels = inputs.to(device), labels.to(device)\n",
        "        outputs = resnet(inputs)\n",
        "        _, preds = torch.max(outputs, 1)\n",
        "        y_true.extend(labels.cpu().numpy())\n",
        "        y_pred.extend(preds.cpu().numpy())"
      ],
      "metadata": {
        "id": "idSQtiVdHilh"
      },
      "execution_count": null,
      "outputs": []
    },
    {
      "cell_type": "code",
      "source": [
        "# Classification report\n",
        "print(\"Classification Report:\")\n",
        "print(classification_report(y_true, y_pred, target_names=train_dataset.classes))"
      ],
      "metadata": {
        "id": "K7StNrOLn3ta",
        "colab": {
          "base_uri": "https://localhost:8080/"
        },
        "outputId": "ab00f943-10af-416c-96e5-9519818cb489"
      },
      "execution_count": null,
      "outputs": [
        {
          "output_type": "stream",
          "name": "stdout",
          "text": [
            "Classification Report:\n",
            "              precision    recall  f1-score   support\n",
            "\n",
            "      NORMAL       0.99      0.74      0.85       234\n",
            "   PNEUMONIA       0.86      0.99      0.92       390\n",
            "\n",
            "    accuracy                           0.90       624\n",
            "   macro avg       0.93      0.87      0.89       624\n",
            "weighted avg       0.91      0.90      0.90       624\n",
            "\n"
          ]
        }
      ]
    },
    {
      "cell_type": "code",
      "source": [
        "# Confusion matrix\n",
        "conf_matrix = confusion_matrix(y_true, y_pred)\n",
        "print(\"Confusion Matrix:\")\n",
        "print(conf_matrix)"
      ],
      "metadata": {
        "id": "SzgpKl5uBhmy",
        "colab": {
          "base_uri": "https://localhost:8080/"
        },
        "outputId": "e32f6d36-41d6-4ffa-9977-47e31c1d2c20"
      },
      "execution_count": null,
      "outputs": [
        {
          "output_type": "stream",
          "name": "stdout",
          "text": [
            "Confusion Matrix:\n",
            "[[173  61]\n",
            " [  2 388]]\n"
          ]
        }
      ]
    },
    {
      "cell_type": "code",
      "source": [
        "from sklearn.metrics import confusion_matrix, precision_score, recall_score, f1_score, accuracy_score\n",
        "\n",
        "# Compute confusion matrix\n",
        "conf_matrix = confusion_matrix(y_true, y_pred)\n",
        "tn, fp, fn, tp = conf_matrix.ravel()\n",
        "\n",
        "# Compute metrics\n",
        "accuracy = accuracy_score(y_true, y_pred)\n",
        "precision = precision_score(y_true, y_pred)\n",
        "recall = recall_score(y_true, y_pred)\n",
        "f1 = f1_score(y_true, y_pred)\n",
        "sensitivity = recall  # Sensitivity is the same as recall\n",
        "specificity = tn / (tn + fp)\n",
        "\n",
        "# Print results\n",
        "print(\"Confusion Matrix:\")\n",
        "print(conf_matrix)\n",
        "\n",
        "accuracy_percentage = accuracy * 100\n",
        "precision_percentage = precision * 100\n",
        "recall_percentage = recall * 100\n",
        "specificity_percentage = specificity * 100\n",
        "f1_percentage = f1 * 100\n",
        "\n",
        "print(f\"Accuracy: {accuracy_percentage:.2f}%\")\n",
        "print(f\"Precision: {precision_percentage:.2f}%\")\n",
        "print(f\"Recall (Sensitivity): {recall_percentage:.2f}%\")\n",
        "print(f\"Specificity: {specificity_percentage:.2f}%\")\n",
        "print(f\"F1 Score: {f1_percentage:.2f}%\")"
      ],
      "metadata": {
        "colab": {
          "base_uri": "https://localhost:8080/"
        },
        "id": "bHtaqHICHW2a",
        "outputId": "a79dab4a-c936-4a1f-ba4e-6b158b32541d"
      },
      "execution_count": null,
      "outputs": [
        {
          "output_type": "stream",
          "name": "stdout",
          "text": [
            "Confusion Matrix:\n",
            "[[173  61]\n",
            " [  2 388]]\n",
            "Accuracy: 89.90%\n",
            "Precision: 86.41%\n",
            "Recall (Sensitivity): 99.49%\n",
            "Specificity: 73.93%\n",
            "F1 Score: 92.49%\n"
          ]
        }
      ]
    },
    {
      "cell_type": "code",
      "source": [
        "import matplotlib.pyplot as plt\n",
        "\n",
        "# Interactive and colorful plot for Training and Validation Loss\n",
        "plt.figure(figsize=(10, 6))\n",
        "\n",
        "# Plot training loss with distinct color\n",
        "plt.plot(range(len(train_loss)), train_loss, label=\"Training Loss\", linestyle='-', marker='o', color='green')\n",
        "\n",
        "# Plot validation loss with distinct color\n",
        "plt.plot(range(len(val_loss)), val_loss, label=\"Validation Loss\", linestyle='--', marker='s', color='purple')\n",
        "\n",
        "# Add labels and title\n",
        "plt.xlabel(\"Epochs\", fontsize=12)\n",
        "plt.ylabel(\"Loss\", fontsize=12)\n",
        "plt.title(\"Training and Validation Loss over Epochs\", fontsize=14)\n",
        "\n",
        "# Highlighting minimum validation loss with a big marker\n",
        "min_val_loss = min(val_loss)\n",
        "min_val_loss_epoch = val_loss.index(min_val_loss)\n",
        "plt.scatter(min_val_loss_epoch, min_val_loss, color='red', s=150, label=f\"Min Val Loss: {min_val_loss:.4f}\")  # Larger marker\n",
        "plt.text(min_val_loss_epoch, min_val_loss + 0.1, f\"Epoch {min_val_loss_epoch + 1}\", color='red', fontsize=12)\n",
        "\n",
        "# Add legend\n",
        "plt.legend(fontsize=12)\n",
        "\n",
        "# Show plot\n",
        "plt.tight_layout()\n",
        "plt.show()\n"
      ],
      "metadata": {
        "id": "JYP7DVVsBiU5",
        "colab": {
          "base_uri": "https://localhost:8080/",
          "height": 580
        },
        "outputId": "a1bde991-ab6c-4f09-bfb3-ed3b2968e424"
      },
      "execution_count": null,
      "outputs": [
        {
          "output_type": "display_data",
          "data": {
            "text/plain": [
              "<Figure size 1000x600 with 1 Axes>"
            ],
            "image/png": "[encoded data removed]"
          },
          "metadata": {}
        }
      ]
    },
    {
      "cell_type": "code",
      "source": [],
      "metadata": {
        "id": "en74IkXtBied"
      },
      "execution_count": null,
      "outputs": []
    }
  ]
}